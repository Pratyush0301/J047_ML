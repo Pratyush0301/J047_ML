{
 "cells": [
  {
   "cell_type": "markdown",
   "id": "d868d608",
   "metadata": {},
   "source": [
    "# Assignment ML\n",
    "#hackerrank 30 questions\n",
    "\n",
    "J047"
   ]
  },
  {
   "cell_type": "markdown",
   "id": "2d2b7e13",
   "metadata": {},
   "source": [
    "Day 0"
   ]
  },
  {
   "cell_type": "code",
   "execution_count": 1,
   "id": "64c239da",
   "metadata": {},
   "outputs": [
    {
     "name": "stdout",
     "output_type": "stream",
     "text": [
      "First attempt\n",
      "Hello, World.\n",
      "First attempt\n"
     ]
    }
   ],
   "source": [
    "# Read a full line of input from stdin and save it to our dynamically typed variable, input_string.\n",
    "input_string = input()\n",
    "\n",
    "# Print a string literal saying \"Hello, World.\" to stdout.\n",
    "print('Hello, World.')\n",
    "\n",
    "# TODO: Write a line of code here that prints the contents of input_string to stdout.\n",
    "print(input_string)\n"
   ]
  },
  {
   "cell_type": "markdown",
   "id": "e59755ce",
   "metadata": {},
   "source": [
    "Day 1"
   ]
  },
  {
   "cell_type": "code",
   "execution_count": 2,
   "id": "51d7544b",
   "metadata": {},
   "outputs": [
    {
     "name": "stdout",
     "output_type": "stream",
     "text": [
      "6\n",
      "8.0\n",
      "Pavilion\n",
      "10\n",
      "12.0\n",
      "HackerRank Pavilion\n"
     ]
    }
   ],
   "source": [
    "i = 4\n",
    "d = 4.0\n",
    "s = 'HackerRank '\n",
    "# Declare second integer, double, and String variables.\n",
    "b=3\n",
    "c=7.0\n",
    "e='Passed'\n",
    "\n",
    "# Read and save an integer, double, and String to your variables.\n",
    "f=int(input())\n",
    "g=float(input())\n",
    "h=str(input())\n",
    "# Print the sum of both integer variables on a new line.\n",
    "print(i+f)\n",
    "\n",
    "# Print the sum of the double variables on a new line.\n",
    "print(d+g)\n",
    "# Concatenate and print the String variables on a new line\n",
    "print(s+h)\n",
    "# The 's' variable above should be printed first."
   ]
  },
  {
   "cell_type": "markdown",
   "id": "c1b9eebd",
   "metadata": {},
   "source": [
    "Day 2"
   ]
  },
  {
   "cell_type": "code",
   "execution_count": 5,
   "id": "8b2aa20f",
   "metadata": {},
   "outputs": [
    {
     "name": "stdout",
     "output_type": "stream",
     "text": [
      "252\n",
      "5\n",
      "2\n",
      "270\n"
     ]
    }
   ],
   "source": [
    "import math\n",
    "import os\n",
    "import random\n",
    "import re\n",
    "import sys\n",
    "\n",
    "\n",
    "def solve(meal_cost, tip_percent, tax_percent):\n",
    "    # Write your code here\n",
    "    meal_cost=float(meal_cost)\n",
    "    tip_percent=int(tip_percent)\n",
    "    tax_percent=int(tax_percent)\n",
    "    \n",
    "    tax=meal_cost*(tax_percent/100)\n",
    "    tip=meal_cost*(tip_percent/100)\n",
    "    return round(meal_cost + tax + tip)\n",
    "\n",
    "if __name__ == '__main__':\n",
    "    meal_cost = float(input().strip())\n",
    "\n",
    "    tip_percent = int(input().strip())\n",
    "\n",
    "    tax_percent = int(input().strip())\n",
    "\n",
    "    print( solve(meal_cost, tip_percent, tax_percent))\n",
    "    \n",
    "    "
   ]
  },
  {
   "cell_type": "markdown",
   "id": "badade1c",
   "metadata": {},
   "source": [
    "Day 3"
   ]
  },
  {
   "cell_type": "code",
   "execution_count": 6,
   "id": "cd29a228",
   "metadata": {},
   "outputs": [
    {
     "name": "stdout",
     "output_type": "stream",
     "text": [
      "23\n",
      "Weird\n"
     ]
    }
   ],
   "source": [
    "import math\n",
    "import os\n",
    "import random\n",
    "import re\n",
    "import sys\n",
    "\n",
    "\n",
    "\n",
    "if __name__ == '__main__':\n",
    "    \n",
    "    n = int(input().strip())\n",
    "\n",
    "# if 'n' is NOT evenly divisible by 2 (i.e.: n is odd)\n",
    "    if n%2==1:\n",
    "       ans = \"Weird\"\n",
    "\n",
    "    elif n>20:\n",
    "       ans = \"Not Weird\"\n",
    "\n",
    "    elif n>=6:\n",
    "       ans = \"Weird\"\n",
    "\n",
    "    else:\n",
    "       ans = \"Not Weird\"\n",
    "\n",
    "    print(ans)"
   ]
  },
  {
   "cell_type": "markdown",
   "id": "7e5b379c",
   "metadata": {},
   "source": [
    "Day 4"
   ]
  },
  {
   "cell_type": "code",
   "execution_count": 10,
   "id": "2b9b8c75",
   "metadata": {},
   "outputs": [
    {
     "name": "stdout",
     "output_type": "stream",
     "text": [
      "2\n",
      "5\n",
      "You are young.\n",
      "You are young.\n",
      "\n",
      "17\n",
      "You are a teenager.\n",
      "You are old.\n",
      "\n"
     ]
    }
   ],
   "source": [
    "class Person:\n",
    "    def __init__(self,initialAge):\n",
    "        # Add some more code to run some checks on initialAge\n",
    "        if(initialAge > 0):\n",
    "            self.age = initialAge\n",
    "        else:\n",
    "            print(\"Age is not valid, setting age to 0.\")\n",
    "            self.age = 0\n",
    "\n",
    "    def amIOld(self):\n",
    "        if self.age >= 18:\n",
    "            print(\"You are old.\")\n",
    "        elif self.age >= 13:\n",
    "            print(\"You are a teenager.\")\n",
    "        else: # age < 13\n",
    "            print(\"You are young.\")\n",
    "            \n",
    "    def yearPasses(self):\n",
    "        # Increment the age of the person in here\n",
    "         self.age += 1\n",
    "         \n",
    "t = int(input())\n",
    "for i in range(0, t):\n",
    "    age = int(input())         \n",
    "    p = Person(age)  \n",
    "    p.amIOld()\n",
    "    for j in range(0, 3):\n",
    "        p.yearPasses()       \n",
    "    p.amIOld()\n",
    "    print(\"\")"
   ]
  },
  {
   "cell_type": "markdown",
   "id": "db1efb7d",
   "metadata": {},
   "source": [
    "Day 5"
   ]
  },
  {
   "cell_type": "code",
   "execution_count": 11,
   "id": "a694d949",
   "metadata": {},
   "outputs": [
    {
     "name": "stdout",
     "output_type": "stream",
     "text": [
      "23\n",
      "23 x 1 = 23\n",
      "23 x 2 = 46\n",
      "23 x 3 = 69\n",
      "23 x 4 = 92\n",
      "23 x 5 = 115\n",
      "23 x 6 = 138\n",
      "23 x 7 = 161\n",
      "23 x 8 = 184\n",
      "23 x 9 = 207\n",
      "23 x 10 = 230\n"
     ]
    }
   ],
   "source": [
    "import math\n",
    "import os\n",
    "import random\n",
    "import re\n",
    "import sys\n",
    "\n",
    "\n",
    "\n",
    "if __name__ == '__main__':\n",
    "    n = int(input().strip())\n",
    "    for i in range(1, 11):\n",
    "        print(str(n) +\" x \" + str(i) + \" = \" + str(n*i))"
   ]
  },
  {
   "cell_type": "markdown",
   "id": "d0d55bf9",
   "metadata": {},
   "source": [
    "Day 6"
   ]
  },
  {
   "cell_type": "code",
   "execution_count": 2,
   "id": "32acf0d7",
   "metadata": {},
   "outputs": [
    {
     "name": "stdout",
     "output_type": "stream",
     "text": [
      "1\n",
      "Pantagruel\n",
      "Pnare atgul\n"
     ]
    }
   ],
   "source": [
    "import sys\n",
    "\n",
    "def Even(s):\n",
    "    l = len(s)\n",
    "    output = \"\"\n",
    "    for i in range(0,l,2):\n",
    "        output += s[i]\n",
    "    return output\n",
    "\n",
    "def Odd(s):\n",
    "    l = len(s)\n",
    "    output = \"\"\n",
    "    for i in range(1,l,2):\n",
    "        output += s[i]\n",
    "    return output\n",
    "\n",
    "t = int(input())\n",
    "for a0 in range(0,t):\n",
    "    s = input()\n",
    "    print(Even(s) + \" \" + Odd(s))"
   ]
  },
  {
   "cell_type": "markdown",
   "id": "c4d109fc",
   "metadata": {},
   "source": [
    "Day 7"
   ]
  },
  {
   "cell_type": "code",
   "execution_count": 3,
   "id": "b8e08dc6",
   "metadata": {},
   "outputs": [
    {
     "name": "stdout",
     "output_type": "stream",
     "text": [
      "3\n",
      "9 5 3\n",
      "3 5 9 \n"
     ]
    }
   ],
   "source": [
    "import math\n",
    "import os\n",
    "import random\n",
    "import re\n",
    "import sys\n",
    "\n",
    "\n",
    "\n",
    "if __name__ == '__main__':\n",
    "    n = int(input().strip())\n",
    "    arr = list(map(int,input().rstrip().split(' ')))\n",
    "    \n",
    "    ans = \"\"\n",
    "    for i in range(len(arr)-1 , -1, -1):\n",
    "        ans += str(arr[i]) + \" \"\n",
    "\n",
    "    print(ans)"
   ]
  },
  {
   "cell_type": "markdown",
   "id": "2ccf722f",
   "metadata": {},
   "source": [
    "Day 8"
   ]
  },
  {
   "cell_type": "code",
   "execution_count": null,
   "id": "4cca505a",
   "metadata": {},
   "outputs": [
    {
     "name": "stdout",
     "output_type": "stream",
     "text": [
      "2\n",
      "john 9999966666\n",
      "kante 1236547899\n",
      "joe\n",
      "Not found\n",
      "kante\n",
      "kante=1236547899\n"
     ]
    }
   ],
   "source": [
    "# Enter your code here. Read input from STDIN. Print output to STDOUT\n",
    "n = int(input())\n",
    "phone_book = dict(input().split() for _ in range(n))\n",
    "\n",
    "while True:\n",
    "    try:\n",
    "        query = input()\n",
    "        print(f\"{query}={phone_book[query]}\")\n",
    "    except KeyError:\n",
    "        print('Not found')\n",
    "    except EOFError:\n",
    "        break"
   ]
  },
  {
   "cell_type": "markdown",
   "id": "f9026223",
   "metadata": {},
   "source": [
    "Day 9"
   ]
  },
  {
   "cell_type": "code",
   "execution_count": 1,
   "id": "54790417",
   "metadata": {},
   "outputs": [
    {
     "name": "stdout",
     "output_type": "stream",
     "text": [
      "5\n",
      "120\n"
     ]
    }
   ],
   "source": [
    "import math\n",
    "import os\n",
    "import random\n",
    "import re\n",
    "import sys\n",
    "\n",
    "def factorial(n):\n",
    "    if n<=1:\n",
    "        return 1\n",
    "    else:\n",
    "        return n*factorial(n-1)\n",
    "\n",
    "n = int(input())\n",
    "print(factorial(n))"
   ]
  },
  {
   "cell_type": "markdown",
   "id": "3ea38c78",
   "metadata": {},
   "source": [
    "`Day 10"
   ]
  },
  {
   "cell_type": "code",
   "execution_count": 1,
   "id": "a6f7d635",
   "metadata": {},
   "outputs": [
    {
     "name": "stdout",
     "output_type": "stream",
     "text": [
      "13\n",
      "2\n"
     ]
    }
   ],
   "source": [
    "import math\n",
    "import os\n",
    "import random\n",
    "import re\n",
    "import sys\n",
    "\n",
    "def max(a,b):\n",
    "    return a if a>b else b\n",
    "\n",
    "n = int(input().strip())\n",
    "\n",
    "max_num = 0\n",
    "count = 0\n",
    "\n",
    "while n:\n",
    "    while n&1:\n",
    "        count += 1\n",
    "        n>>=1\n",
    "    max_num = max(count, max_num)\n",
    "    if not n&1:\n",
    "        count = 0\n",
    "        n>>=1\n",
    "\n",
    "print(max_num)"
   ]
  },
  {
   "cell_type": "markdown",
   "id": "307b4601",
   "metadata": {},
   "source": [
    "Day 11"
   ]
  },
  {
   "cell_type": "code",
   "execution_count": 4,
   "id": "2ed680a8",
   "metadata": {},
   "outputs": [
    {
     "name": "stdout",
     "output_type": "stream",
     "text": [
      "1 1 0 0 1 0\n",
      "0 0 0 0 0 0 \n",
      "1 1 2 0 2 2\n",
      "0 0 0 0 1 1\n",
      "0 0 0 2 4 3\n",
      "1 1 0 0 2 1\n",
      "14\n"
     ]
    }
   ],
   "source": [
    "import math\n",
    "import os\n",
    "import random\n",
    "import re\n",
    "import sys\n",
    "\n",
    "\n",
    "\n",
    "if __name__ == '__main__':\n",
    "    arr = []\n",
    "for arr_i in range(6):\n",
    "   arr_temp = list(map(int,input().rstrip().split(' ')))\n",
    "   arr.append(arr_temp)\n",
    "max = 0\n",
    "\n",
    "for i in range(0,4):\n",
    "    for j in range(0,4):\n",
    "        sum = 0\n",
    "        sum= arr[i][j]+arr[i][j+1]+arr[i][j+2]+arr[i+1][j+1]+arr[i+2][j]+arr[i+2][j+1]+arr[i+2][j+2]\n",
    "        if i==0 and j==0:\n",
    "            max = sum\n",
    "        if sum > max:\n",
    "            max =sum\n",
    "\n",
    "print(max)"
   ]
  },
  {
   "cell_type": "markdown",
   "id": "a76217bc",
   "metadata": {},
   "source": [
    "Day 12"
   ]
  },
  {
   "cell_type": "code",
   "execution_count": 5,
   "id": "60db6807",
   "metadata": {},
   "outputs": [
    {
     "name": "stdout",
     "output_type": "stream",
     "text": [
      "Barry Allen 123456\n",
      "2\n",
      "75 87\n",
      "Name: Allen, Barry\n",
      "ID: 123456\n",
      "Grade: E\n"
     ]
    }
   ],
   "source": [
    "class Person:\n",
    "    def __init__(self, firstName, lastName, idNumber):\n",
    "        self.firstName = firstName\n",
    "        self.lastName = lastName\n",
    "        self.idNumber = idNumber\n",
    "    def printPerson(self):\n",
    "        print(\"Name:\", self.lastName + \",\", self.firstName)\n",
    "        print(\"ID:\", self.idNumber)\n",
    "\n",
    "\n",
    "class Student(Person):\n",
    "    def __init__(self, fName, lName, sId, scores):\n",
    "        super().__init__(fName, lName, sId)\n",
    "        self.scores = scores\n",
    "\n",
    "    def calculate(self):\n",
    "        avg = 0.0\n",
    "        for score in self.scores:\n",
    "            avg += score\n",
    "\n",
    "        avg = avg/len(self.scores)\n",
    "        if avg < 40:\n",
    "            return 'T'\n",
    "        elif avg < 55:\n",
    "            return 'D'\n",
    "        elif avg < 70:\n",
    "            return 'P'\n",
    "        elif avg < 80:\n",
    "            return 'A'\n",
    "        elif avg < 90:\n",
    "            return 'E'\n",
    "        else:\n",
    "            return 'O'\n",
    "\n",
    "line = input().split()\n",
    "firstName = line[0]\n",
    "lastName = line[1]\n",
    "idNum = line[2]\n",
    "numScores = int(input()) # not needed for Python\n",
    "scores = list( map(int, input().split()) )\n",
    "s = Student(firstName, lastName, idNum, scores)\n",
    "s.printPerson()\n",
    "print(\"Grade:\", s.calculate())"
   ]
  },
  {
   "cell_type": "markdown",
   "id": "41e5eed6",
   "metadata": {},
   "source": [
    "Day 13"
   ]
  },
  {
   "cell_type": "code",
   "execution_count": 6,
   "id": "272c8ef2",
   "metadata": {},
   "outputs": [
    {
     "name": "stdout",
     "output_type": "stream",
     "text": [
      "Percy Jackson and The Greek Heroes\n",
      "Rick Riordan\n",
      "350\n",
      "Title: Percy Jackson and The Greek Heroes\n",
      "Author: Rick Riordan\n",
      "Price: 350\n"
     ]
    }
   ],
   "source": [
    "from abc import ABCMeta, abstractmethod\n",
    "class Book(object, metaclass=ABCMeta):\n",
    "    def __init__(self,title,author):\n",
    "        self.title=title\n",
    "        self.author=author   \n",
    "    @abstractmethod\n",
    "    def display(): pass\n",
    "\n",
    "class MyBook(Book):\n",
    "    def __init__(self, title, author, price):\n",
    "        Book.__init__(self, title, author)\n",
    "        self.price = price\n",
    "        \n",
    "    def display(self):\n",
    "        print(\"Title: %s\\nAuthor: %s\\nPrice: %s\" %(title, author, price))\n",
    "        \n",
    "title=input()\n",
    "author=input()\n",
    "price=int(input())\n",
    "new_novel=MyBook(title,author,price)\n",
    "new_novel.display()"
   ]
  },
  {
   "cell_type": "markdown",
   "id": "ac21c0a6",
   "metadata": {},
   "source": [
    "Day 14"
   ]
  },
  {
   "cell_type": "code",
   "execution_count": 2,
   "id": "6966b8d9",
   "metadata": {},
   "outputs": [
    {
     "name": "stdout",
     "output_type": "stream",
     "text": [
      "4\n"
     ]
    }
   ],
   "source": [
    "class Difference:\n",
    "    def __init__(self, a):\n",
    "        self.__elements = a\n",
    "     \n",
    "    def computeDifference(self):\n",
    "        self.maximumDifference=max(self.__elements)-min(self.__elements)\n",
    "        return None\n",
    "    \n",
    "# End of Difference class\n",
    "\n",
    "d = Difference(a=[1,2,5])\n",
    "d.computeDifference()\n",
    "\n",
    "print(d.maximumDifference)"
   ]
  },
  {
   "cell_type": "markdown",
   "id": "ec56bc6f",
   "metadata": {},
   "source": [
    "Day 15"
   ]
  },
  {
   "cell_type": "code",
   "execution_count": 3,
   "id": "75cb1169",
   "metadata": {},
   "outputs": [
    {
     "name": "stdout",
     "output_type": "stream",
     "text": [
      "5\n",
      "3\n",
      "1\n",
      "2\n",
      "3\n",
      "4\n",
      "3 1 2 3 4 "
     ]
    }
   ],
   "source": [
    "class Node:\n",
    "    def __init__(self,data):\n",
    "        self.data = data\n",
    "        self.next = None \n",
    "class Solution: \n",
    "    def display(self,head):\n",
    "        current = head\n",
    "        while current:\n",
    "            print(current.data,end=' ')\n",
    "            current = current.next\n",
    " \n",
    "    def insert(self,head,data): \n",
    "        if head is None:\n",
    "            head = Node(data)\n",
    "        elif head.next is None:\n",
    "            head.next = Node(data)\n",
    "        else: \n",
    "            self.insert(head.next, data)\n",
    "        return head\n",
    "\n",
    "mylist= Solution()\n",
    "T=int(input())\n",
    "head=None\n",
    "for i in range(T):\n",
    "    data=int(input())\n",
    "    head=mylist.insert(head,data)    \n",
    "mylist.display(head); "
   ]
  },
  {
   "cell_type": "markdown",
   "id": "2a01459c",
   "metadata": {},
   "source": [
    "Day 16"
   ]
  },
  {
   "cell_type": "code",
   "execution_count": 5,
   "id": "4d00947a",
   "metadata": {},
   "outputs": [
    {
     "name": "stdout",
     "output_type": "stream",
     "text": [
      "dd\n",
      "Bad String\n"
     ]
    }
   ],
   "source": [
    "import sys\n",
    "\n",
    "\n",
    "S = input().strip()\n",
    "try: \n",
    "    r = int(S)\n",
    "    print(r)\n",
    "except ValueError:\n",
    "    print(\"Bad String\")"
   ]
  },
  {
   "cell_type": "markdown",
   "id": "234a15cd",
   "metadata": {},
   "source": [
    "Day 17"
   ]
  },
  {
   "cell_type": "code",
   "execution_count": 6,
   "id": "74e1640a",
   "metadata": {},
   "outputs": [
    {
     "name": "stdout",
     "output_type": "stream",
     "text": [
      "3\n",
      "2 6\n",
      "64\n",
      "-1 3\n",
      "n and p should be non-negative\n",
      "3 4\n",
      "81\n"
     ]
    }
   ],
   "source": [
    "class Calculator(Exception):\n",
    "    def power(self,n,p):\n",
    "        if (n<0 or p<0):\n",
    "            raise Calculator(\"n and p should be non-negative\")\n",
    "        else:\n",
    "            return pow(n,p)\n",
    "        \n",
    "myCalculator=Calculator()\n",
    "T=int(input())\n",
    "for i in range(T):\n",
    "    n,p = map(int, input().split())\n",
    "    try:\n",
    "        ans=myCalculator.power(n,p)\n",
    "        print(ans)\n",
    "    except Exception as e:\n",
    "        print(e)   "
   ]
  },
  {
   "cell_type": "markdown",
   "id": "6a1c1eef",
   "metadata": {},
   "source": [
    "Day 18"
   ]
  },
  {
   "cell_type": "code",
   "execution_count": 7,
   "id": "01effd95",
   "metadata": {},
   "outputs": [
    {
     "name": "stdout",
     "output_type": "stream",
     "text": [
      "reviver\n",
      "The word, reviver, is a palindrome.\n"
     ]
    }
   ],
   "source": [
    "import sys\n",
    "from collections import deque\n",
    "\n",
    "class Solution:\n",
    "    def __init__(self):\n",
    "        self.stack = deque()\n",
    "        self.queue = deque()\n",
    "    \n",
    "    def pushCharacter(self,char):\n",
    "        self.stack.append(char)\n",
    "    \n",
    "    def popCharacter(self):\n",
    "        return self.stack.pop()\n",
    "    \n",
    "    def enqueueCharacter(self,char):\n",
    "        self.queue.append(char)\n",
    "    \n",
    "    def dequeueCharacter(self):\n",
    "        return self.queue.popleft();\n",
    "\n",
    "s=input()\n",
    "obj=Solution()   \n",
    "\n",
    "l=len(s)\n",
    "# push/enqueue all the characters of string s to stack\n",
    "for i in range(l):\n",
    "    obj.pushCharacter(s[i])\n",
    "    obj.enqueueCharacter(s[i])\n",
    "    \n",
    "isPalindrome=True\n",
    "'''\n",
    "pop the top character from stack\n",
    "dequeue the first character from queue\n",
    "compare both the characters\n",
    "''' \n",
    "for i in range(l // 2):\n",
    "    if obj.popCharacter()!=obj.dequeueCharacter():\n",
    "        isPalindrome=False\n",
    "        break\n",
    "        \n",
    "if isPalindrome:\n",
    "    print(\"The word, \"+s+\", is a palindrome.\")\n",
    "else:\n",
    "    print(\"The word, \"+s+\", is not a palindrome.\")    "
   ]
  },
  {
   "cell_type": "markdown",
   "id": "6bf2543b",
   "metadata": {},
   "source": [
    "Day 19"
   ]
  },
  {
   "cell_type": "code",
   "execution_count": 13,
   "id": "f9d13de4",
   "metadata": {},
   "outputs": [
    {
     "name": "stdout",
     "output_type": "stream",
     "text": [
      "9\n",
      "13\n"
     ]
    }
   ],
   "source": [
    "class AdvancedArithmetic(object):\n",
    "    def divisorSum(n):\n",
    "        raise NotImplementedError\n",
    "\n",
    "class Calculator(AdvancedArithmetic):\n",
    "    def divisorSum(self, n):\n",
    "        s = 0\n",
    "        for i in range(1,n+1):\n",
    "             if (n%i == 0):\n",
    "                s+=i\n",
    "        return s\n",
    "\n",
    "\n",
    "n = int(input())\n",
    "my_calculator = Calculator()\n",
    "s = my_calculator.divisorSum(n)\n",
    "print(s)"
   ]
  },
  {
   "cell_type": "markdown",
   "id": "f58d58a3",
   "metadata": {},
   "source": [
    "Day 20"
   ]
  },
  {
   "cell_type": "code",
   "execution_count": 15,
   "id": "ad619abf",
   "metadata": {},
   "outputs": [
    {
     "name": "stdout",
     "output_type": "stream",
     "text": [
      "4\n",
      "5 9 4 1\n",
      "Array is sorted in 5 swaps.\n",
      "First Element: 1\n",
      "Last Element: 9\n"
     ]
    }
   ],
   "source": [
    "import math\n",
    "import os\n",
    "import random\n",
    "import re\n",
    "import sys\n",
    "\n",
    "\n",
    "if __name__ == '__main__':\n",
    "\n",
    "    n = int(input().strip())\n",
    "    a = list(map(int, input().rstrip().split(' ')))\n",
    "    numberOfSwaps = 0\n",
    "    for i in range(0,n):\n",
    "        for j in range(0, n-1):\n",
    "            if (a[j] > a[j + 1]):\n",
    "                temp=a[j]\n",
    "                a[j] = a[j+1]\n",
    "                a[j+1] = temp\n",
    "                numberOfSwaps += 1\n",
    "        if (numberOfSwaps == 0):\n",
    "            break\n",
    "print( \"Array is sorted in \" + str(numberOfSwaps) + \" swaps.\" )\n",
    "print( \"First Element: \" + str(a[0]) )\n",
    "print( \"Last Element: \" +  str(a[n-1]) )"
   ]
  },
  {
   "cell_type": "markdown",
   "id": "de0c4a16",
   "metadata": {},
   "source": [
    "Day 21 not available on python"
   ]
  },
  {
   "cell_type": "markdown",
   "id": "6b583dae",
   "metadata": {},
   "source": [
    "Day 22"
   ]
  },
  {
   "cell_type": "code",
   "execution_count": 18,
   "id": "74e88e52",
   "metadata": {},
   "outputs": [
    {
     "name": "stdout",
     "output_type": "stream",
     "text": [
      "8\n",
      "4\n",
      "3\n",
      "2\n",
      "6\n",
      "7\n",
      "1\n",
      "8\n",
      "9\n",
      "Height of tree:  4\n"
     ]
    }
   ],
   "source": [
    "class Node:\n",
    "    def __init__(self,data):\n",
    "        self.right=self.left=None\n",
    "        self.data = data\n",
    "class Solution:\n",
    "    def insert(self,root,data):\n",
    "        if root==None:\n",
    "            return Node(data)\n",
    "        else:\n",
    "            if data<=root.data:\n",
    "                cur=self.insert(root.left,data)\n",
    "                root.left=cur\n",
    "            else:\n",
    "                cur=self.insert(root.right,data)\n",
    "                root.right=cur\n",
    "        return root\n",
    "\n",
    "    def getHeight(self,root):\n",
    "        if root is None or (root.left is None and root.right is None):\n",
    "            return 0\n",
    "        else:\n",
    "            return max(self.getHeight(root.left),self.getHeight(root.right))+1\n",
    "\n",
    "T=int(input())\n",
    "myTree=Solution()\n",
    "root=None\n",
    "for i in range(T):\n",
    "    data=int(input())\n",
    "    root=myTree.insert(root,data)\n",
    "height=myTree.getHeight(root)\n",
    "print(\"Height of tree: \",height)       "
   ]
  },
  {
   "cell_type": "markdown",
   "id": "6c00659a",
   "metadata": {},
   "source": [
    "Day 23"
   ]
  },
  {
   "cell_type": "code",
   "execution_count": 20,
   "id": "e9c6b122",
   "metadata": {},
   "outputs": [
    {
     "name": "stdout",
     "output_type": "stream",
     "text": [
      "6\n",
      "4\n",
      "6\n",
      "3\n",
      "7\n",
      "5\n",
      "1\n",
      "4 3 6 1 5 7\n"
     ]
    }
   ],
   "source": [
    "import sys\n",
    "\n",
    "class Node:\n",
    "    def __init__(self,data):\n",
    "        self.right=self.left=None\n",
    "        self.data = data\n",
    "class Solution:\n",
    "    def insert(self,root,data):\n",
    "        if root==None:\n",
    "            return Node(data)\n",
    "        else:\n",
    "            if data<=root.data:\n",
    "                cur=self.insert(root.left,data)\n",
    "                root.left=cur\n",
    "            else:\n",
    "                cur=self.insert(root.right,data)\n",
    "                root.right=cur\n",
    "        return root\n",
    "\n",
    "    def levelOrder(self,root):\n",
    "        output = \"\"\n",
    "        queue = [root]\n",
    "        while queue:\n",
    "            current = queue.pop(0)\n",
    "            output += str(current.data) + \" \"\n",
    "            if current.left:\n",
    "                queue.append(current.left)\n",
    "            if current.right:\n",
    "                queue.append(current.right)\n",
    "        print(output[:-1])\n",
    "\n",
    "T=int(input())\n",
    "myTree=Solution()\n",
    "root=None\n",
    "for i in range(T):\n",
    "    data=int(input())\n",
    "    root=myTree.insert(root,data)\n",
    "myTree.levelOrder(root)\n"
   ]
  },
  {
   "cell_type": "markdown",
   "id": "38993a1b",
   "metadata": {},
   "source": [
    "Day 24"
   ]
  },
  {
   "cell_type": "code",
   "execution_count": 21,
   "id": "f7a13021",
   "metadata": {},
   "outputs": [
    {
     "name": "stdout",
     "output_type": "stream",
     "text": [
      "7\n",
      "3\n",
      "2\n",
      "2\n",
      "5\n",
      "4\n",
      "4\n",
      "1\n",
      "3 2 5 4 1 "
     ]
    }
   ],
   "source": [
    "class Node:\n",
    "    def __init__(self,data):\n",
    "        self.data = data\n",
    "        self.next = None \n",
    "class Solution: \n",
    "    def insert(self,head,data):\n",
    "            p = Node(data)           \n",
    "            if head==None:\n",
    "                head=p\n",
    "            elif head.next==None:\n",
    "                head.next=p\n",
    "            else:\n",
    "                start=head\n",
    "                while(start.next!=None):\n",
    "                    start=start.next\n",
    "                start.next=p\n",
    "            return head  \n",
    "    def display(self,head):\n",
    "        current = head\n",
    "        while current:\n",
    "            print(current.data,end=' ')\n",
    "            current = current.next\n",
    "\n",
    "    def removeDuplicates(self,head):\n",
    "        current = head\n",
    "        while (current.next):\n",
    "            if (current.data == current.next.data):\n",
    "                current.next = current.next.next\n",
    "            else:\n",
    "                current = current.next\n",
    "\n",
    "        return head\n",
    "\n",
    "mylist= Solution()\n",
    "T=int(input())\n",
    "head=None\n",
    "for i in range(T):\n",
    "    data=int(input())\n",
    "    head=mylist.insert(head,data)    \n",
    "head=mylist.removeDuplicates(head)\n",
    "mylist.display(head); "
   ]
  },
  {
   "cell_type": "markdown",
   "id": "9c87f49d",
   "metadata": {},
   "source": [
    "Day 25"
   ]
  },
  {
   "cell_type": "code",
   "execution_count": 1,
   "id": "3f48a2e9",
   "metadata": {},
   "outputs": [
    {
     "name": "stdout",
     "output_type": "stream",
     "text": [
      "3\n",
      "13\n",
      "Prime\n",
      "19\n",
      "Prime\n",
      "21\n",
      "Not prime\n"
     ]
    }
   ],
   "source": [
    "import math\n",
    "\n",
    "def check_prime(num):\n",
    "    if num == 1:\n",
    "        return \"Not prime\"\n",
    "    sq = int(math.sqrt(num))\n",
    "    for x in range(2, sq+1):\n",
    "        if num % x == 0:\n",
    "            return \"Not prime\"\n",
    "    return \"Prime\"\n",
    "\n",
    "\n",
    "t = int(input())\n",
    "for i in range(t):\n",
    "    number = int(input())\n",
    "    print(check_prime(number))"
   ]
  },
  {
   "cell_type": "markdown",
   "id": "881446f8",
   "metadata": {},
   "source": [
    "Day 26"
   ]
  },
  {
   "cell_type": "code",
   "execution_count": 1,
   "id": "b29d9184",
   "metadata": {},
   "outputs": [
    {
     "name": "stdout",
     "output_type": "stream",
     "text": [
      "9 6 2019\n",
      "2 6 2019\n",
      "105\n"
     ]
    }
   ],
   "source": [
    "return_date= [int (i) for i in input().split()]\n",
    "due_date= [int (i) for i in input().split()]\n",
    "if return_date[2] > due_date[2]:\n",
    "    print(10000)\n",
    "else:\n",
    "    if return_date[2] == due_date[2]:\n",
    "        if return_date[1] > due_date[1]:\n",
    "            print(500* (return_date[1] - due_date[1]))\n",
    "        elif return_date[1] == due_date[1] and return_date[0] > due_date[0]:\n",
    "            print(15* (return_date[0] - due_date[0]))\n",
    "        else:\n",
    "            print(0)\n",
    "    else:\n",
    "        print(0)"
   ]
  },
  {
   "cell_type": "markdown",
   "id": "9a288283",
   "metadata": {},
   "source": [
    "Day 27"
   ]
  },
  {
   "cell_type": "code",
   "execution_count": 2,
   "id": "ee5a1498",
   "metadata": {},
   "outputs": [
    {
     "name": "stdout",
     "output_type": "stream",
     "text": [
      "OK\n"
     ]
    }
   ],
   "source": [
    "def minimum_index(seq):\n",
    "    if len(seq) == 0:\n",
    "        raise ValueError(\"Cannot get the minimum value index from an empty sequence\")\n",
    "    min_idx = 0\n",
    "    for i in range(1, len(seq)):\n",
    "        if seq[i] < seq[min_idx]:\n",
    "            min_idx = i\n",
    "    return min_idx\n",
    "\n",
    "class TestDataEmptyArray(object):\n",
    "    \n",
    "    @staticmethod\n",
    "    def get_array():\n",
    "        return []\n",
    "\n",
    "class TestDataUniqueValues(object):\n",
    "\n",
    "    def get_array():\n",
    "        return [7, 4, 3, 8, 14]\n",
    "\n",
    "    def get_expected_result():\n",
    "        return 2\n",
    "\n",
    "class TestDataExactlyTwoDifferentMinimums(object):\n",
    "\n",
    "    def get_array():\n",
    "        return [7, 4, 3, 8, 3, 14]\n",
    "\n",
    "    @staticmethod\n",
    "    def get_expected_result():\n",
    "        return 2\n",
    "\n",
    "def TestWithEmptyArray():\n",
    "    try:\n",
    "        seq = TestDataEmptyArray.get_array()\n",
    "        result = minimum_index(seq)\n",
    "    except ValueError as e:\n",
    "        pass\n",
    "    else:\n",
    "        assert False\n",
    "\n",
    "\n",
    "def TestWithUniqueValues():\n",
    "    seq = TestDataUniqueValues.get_array()\n",
    "    assert len(seq) >= 2\n",
    "\n",
    "    assert len(list(set(seq))) == len(seq)\n",
    "\n",
    "    expected_result = TestDataUniqueValues.get_expected_result()\n",
    "    result = minimum_index(seq)\n",
    "    assert result == expected_result\n",
    "\n",
    "\n",
    "def TestiWithExactyTwoDifferentMinimums():\n",
    "    seq = TestDataExactlyTwoDifferentMinimums.get_array()\n",
    "    assert len(seq) >= 2\n",
    "    tmp = sorted(seq)\n",
    "    assert tmp[0] == tmp[1] and (len(tmp) == 2 or tmp[1] < tmp[2])\n",
    "\n",
    "    expected_result = TestDataExactlyTwoDifferentMinimums.get_expected_result()\n",
    "    result = minimum_index(seq)\n",
    "    assert result == expected_result\n",
    "\n",
    "TestWithEmptyArray()\n",
    "TestWithUniqueValues()\n",
    "TestiWithExactyTwoDifferentMinimums()\n",
    "print(\"OK\")\n",
    "\n"
   ]
  },
  {
   "cell_type": "markdown",
   "id": "00be814a",
   "metadata": {},
   "source": [
    "Day 28"
   ]
  },
  {
   "cell_type": "code",
   "execution_count": 3,
   "id": "22e15ad5",
   "metadata": {},
   "outputs": [
    {
     "name": "stdout",
     "output_type": "stream",
     "text": [
      "3\n",
      "joe joe@gmail.com\n",
      "phil phil012@gmail.in\n",
      "sue sue911@yahoo.com\n",
      "joe\n"
     ]
    }
   ],
   "source": [
    "import math\n",
    "import os\n",
    "import random\n",
    "import re\n",
    "import sys\n",
    "\n",
    "\n",
    "\n",
    "if __name__ == '__main__':\n",
    "    \n",
    "     N = int(input().strip())\n",
    "     names = []\n",
    "for a0 in range(N):\n",
    "    firstName,emailID = input().rstrip().split(' ')\n",
    "    firstName,emailID = [str(firstName),str(emailID)]\n",
    "    match = re.search(r'[\\w\\.-]+@gmail.com', emailID)\n",
    "\n",
    "    if match:\n",
    "        names.append(firstName)\n",
    "names.sort()\n",
    "for name in names:\n",
    "    print( name )"
   ]
  },
  {
   "cell_type": "markdown",
   "id": "e57a3f73",
   "metadata": {},
   "source": [
    "Day 29"
   ]
  },
  {
   "cell_type": "code",
   "execution_count": 4,
   "id": "3452dde5",
   "metadata": {},
   "outputs": [
    {
     "name": "stdout",
     "output_type": "stream",
     "text": [
      "3\n",
      "5 2\n",
      "1\n",
      "8 5\n",
      "4\n",
      "2 2\n",
      "0\n"
     ]
    }
   ],
   "source": [
    "t = int(input().strip())\n",
    "for a0 in range(t):\n",
    "    n, k = input().strip().split(' ')\n",
    "    n, k = [int(n), int(k)]\n",
    "    print(k-1 if ((k-1) | k) <= n else k-2)"
   ]
  }
 ],
 "metadata": {
  "kernelspec": {
   "display_name": "Python 3",
   "language": "python",
   "name": "python3"
  },
  "language_info": {
   "codemirror_mode": {
    "name": "ipython",
    "version": 3
   },
   "file_extension": ".py",
   "mimetype": "text/x-python",
   "name": "python",
   "nbconvert_exporter": "python",
   "pygments_lexer": "ipython3",
   "version": "3.8.3"
  }
 },
 "nbformat": 4,
 "nbformat_minor": 5
}
