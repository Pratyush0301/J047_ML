{
 "cells": [
  {
   "cell_type": "markdown",
   "id": "50e45363",
   "metadata": {},
   "source": [
    "# ML  Assignment 2\n",
    "\n",
    "Pratyush\n",
    "J047"
   ]
  },
  {
   "cell_type": "markdown",
   "id": "c8f267d9",
   "metadata": {},
   "source": [
    "### Task 1:Prove properties of matrix multiplication"
   ]
  },
  {
   "cell_type": "code",
   "execution_count": 1,
   "id": "e764495c",
   "metadata": {},
   "outputs": [],
   "source": [
    "import numpy as np\n",
    "\n",
    "A=np.array([[1,2,3],[4,5,6],[7,8,9]])\n",
    "B=np.array([[1,4,1],[8,2,3],[4,1,9]])\n",
    "C=np.array([[3,1,2],[3,5,2],[1,1,1]])\n",
    "I = np.identity(3)"
   ]
  },
  {
   "cell_type": "code",
   "execution_count": 2,
   "id": "3cbc52f8",
   "metadata": {},
   "outputs": [
    {
     "name": "stdout",
     "output_type": "stream",
     "text": [
      "Matrix A : \n",
      " [[1 2 3]\n",
      " [4 5 6]\n",
      " [7 8 9]]\n",
      "Matrix B : \n",
      " [[1 4 1]\n",
      " [8 2 3]\n",
      " [4 1 9]]\n",
      "Matrix C : \n",
      " [[3 1 2]\n",
      " [3 5 2]\n",
      " [1 1 1]]\n",
      "Identity Matrix : \n",
      " [[1. 0. 0.]\n",
      " [0. 1. 0.]\n",
      " [0. 0. 1.]]\n"
     ]
    }
   ],
   "source": [
    "print('Matrix A : \\n', A)\n",
    "print('Matrix B : \\n', B)\n",
    "print('Matrix C : \\n', C)\n",
    "print('Identity Matrix : \\n', I)"
   ]
  },
  {
   "cell_type": "markdown",
   "id": "5732b73e",
   "metadata": {},
   "source": [
    "### Communatitive property not applicable"
   ]
  },
  {
   "cell_type": "code",
   "execution_count": 3,
   "id": "b61b3f70",
   "metadata": {},
   "outputs": [
    {
     "name": "stdout",
     "output_type": "stream",
     "text": [
      "A.B : \n",
      " [[ 29  11  34]\n",
      " [ 68  32  73]\n",
      " [107  53 112]]\n",
      "B.A : \n",
      " [[24 30 36]\n",
      " [37 50 63]\n",
      " [71 85 99]]\n"
     ]
    }
   ],
   "source": [
    "\n",
    "AdotB = A.dot(B)\n",
    "BdotA = B.dot(A)\n",
    "\n",
    "print('A.B : \\n', AdotB)\n",
    "print('B.A : \\n', BdotA)"
   ]
  },
  {
   "cell_type": "markdown",
   "id": "ee307d59",
   "metadata": {},
   "source": [
    "### Associative property [(A.B).C = A.(B.C)]"
   ]
  },
  {
   "cell_type": "code",
   "execution_count": 4,
   "id": "f3d9beac",
   "metadata": {},
   "outputs": [
    {
     "name": "stdout",
     "output_type": "stream",
     "text": [
      "(A.B).C : \n",
      " [[154 118 114]\n",
      " [373 301 273]\n",
      " [592 484 432]]\n",
      "A.(B.C) : \n",
      " [[154 118 114]\n",
      " [373 301 273]\n",
      " [592 484 432]]\n"
     ]
    }
   ],
   "source": [
    "\n",
    "AB_C = np.dot(A, B).dot(C)\n",
    "A_BC = A.dot(np.dot(B, C))\n",
    "\n",
    "print('(A.B).C : \\n', AB_C)\n",
    "print('A.(B.C) : \\n', A_BC)"
   ]
  },
  {
   "cell_type": "markdown",
   "id": "95d36252",
   "metadata": {},
   "source": [
    "### Distributive property [A.(B+C) = ]"
   ]
  },
  {
   "cell_type": "code",
   "execution_count": 5,
   "id": "33d04aaa",
   "metadata": {},
   "outputs": [
    {
     "name": "stdout",
     "output_type": "stream",
     "text": [
      "A.(B+C) : \n",
      " [[ 41  25  43]\n",
      " [101  67  97]\n",
      " [161 109 151]]\n",
      "A.B + A.C : \n",
      " [[ 41  25  43]\n",
      " [101  67  97]\n",
      " [161 109 151]]\n"
     ]
    }
   ],
   "source": [
    "\n",
    "lhs = np.dot(A, B+C)\n",
    "rhs = np.dot(A, B) + np.dot(A, C)\n",
    "print(\"A.(B+C) : \\n\", lhs)\n",
    "print('A.B + A.C : \\n', rhs)"
   ]
  },
  {
   "cell_type": "markdown",
   "id": "5d04d636",
   "metadata": {},
   "source": [
    "### Identity property [A.I = I.A]"
   ]
  },
  {
   "cell_type": "code",
   "execution_count": 6,
   "id": "8d3d69fa",
   "metadata": {},
   "outputs": [
    {
     "name": "stdout",
     "output_type": "stream",
     "text": [
      "A.I : \n",
      " [[1. 2. 3.]\n",
      " [4. 5. 6.]\n",
      " [7. 8. 9.]]\n",
      "I.A :\n",
      " [[1. 2. 3.]\n",
      " [4. 5. 6.]\n",
      " [7. 8. 9.]]\n"
     ]
    }
   ],
   "source": [
    "\n",
    "AI = np.dot(A, I)\n",
    "IA = np.dot(I, A)\n",
    "\n",
    "print('A.I : \\n', AI)\n",
    "print('I.A :\\n', IA)"
   ]
  },
  {
   "cell_type": "markdown",
   "id": "cc701469",
   "metadata": {},
   "source": [
    "### Multiplicative property of zero [A.0 = 0.A = 0]"
   ]
  },
  {
   "cell_type": "code",
   "execution_count": 7,
   "id": "3b2ccf69",
   "metadata": {},
   "outputs": [
    {
     "name": "stdout",
     "output_type": "stream",
     "text": [
      "A.0 : \n",
      " [[0. 0. 0.]\n",
      " [0. 0. 0.]\n",
      " [0. 0. 0.]]\n",
      "0.A : \n",
      " [[0. 0. 0.]\n",
      " [0. 0. 0.]\n",
      " [0. 0. 0.]]\n"
     ]
    }
   ],
   "source": [
    "\n",
    "z_mat = np.zeros(9).reshape(3, 3)\n",
    "lhs = np.dot(A, z_mat)\n",
    "rhs = np.dot(z_mat, A)\n",
    "\n",
    "print('A.0 : \\n', lhs)\n",
    "print('0.A : \\n', rhs)"
   ]
  },
  {
   "cell_type": "markdown",
   "id": "d9a5fe11",
   "metadata": {},
   "source": [
    "### Dimensions on matrix multiplication"
   ]
  },
  {
   "cell_type": "code",
   "execution_count": 8,
   "id": "017f3818",
   "metadata": {},
   "outputs": [
    {
     "name": "stdout",
     "output_type": "stream",
     "text": [
      " 5x7 matrix X 7x3 matrix = 5x3 matrix\n"
     ]
    }
   ],
   "source": [
    "\n",
    "m,n,k = 5,7,3\n",
    "mat_m_n = np.random.randn(m, n)\n",
    "mat_n_k = np.random.randn(n, k)\n",
    "mat_mult = np.dot(mat_m_n, mat_n_k)\n",
    "result_x, result_y = mat_mult.shape\n",
    "print(f' {m}x{n} matrix X {n}x{k} matrix = {result_x}x{result_y} matrix')"
   ]
  },
  {
   "cell_type": "markdown",
   "id": "d1f34a78",
   "metadata": {},
   "source": [
    "### Task 2: Inverse of a matrix"
   ]
  },
  {
   "cell_type": "code",
   "execution_count": 9,
   "id": "48187362",
   "metadata": {},
   "outputs": [
    {
     "data": {
      "text/plain": [
       "array([[ 3.15251974e+15, -6.30503948e+15,  3.15251974e+15],\n",
       "       [-6.30503948e+15,  1.26100790e+16, -6.30503948e+15],\n",
       "       [ 3.15251974e+15, -6.30503948e+15,  3.15251974e+15]])"
      ]
     },
     "execution_count": 9,
     "metadata": {},
     "output_type": "execute_result"
    }
   ],
   "source": [
    "\n",
    "A_inv=np.linalg.inv(A)\n",
    "A_inv"
   ]
  },
  {
   "cell_type": "markdown",
   "id": "0cb82edc",
   "metadata": {},
   "source": [
    "### Task 3:Comparison of time between numpy and loops"
   ]
  },
  {
   "cell_type": "code",
   "execution_count": 10,
   "id": "e92a7c26",
   "metadata": {},
   "outputs": [],
   "source": [
    "\n",
    "import time\n",
    "size = 5000\n",
    "numpy_mat_A = np.random.randn(size, size)\n",
    "numpy_mat_B = np.random.randn(size, size)\n",
    "list_mat_A = [list(i) for i in numpy_mat_A]\n",
    "list_mat_B = [list(i)for i in numpy_mat_B]"
   ]
  },
  {
   "cell_type": "code",
   "execution_count": 11,
   "id": "330e9eab",
   "metadata": {},
   "outputs": [],
   "source": [
    "start_loop = time.time()\n",
    "list_mat_C = []\n",
    "for i in range(size) :\n",
    "    row = []\n",
    "    for j in range(size) :\n",
    "        row.append(list_mat_A[i][j] + list_mat_B[i][j])\n",
    "    list_mat_C.append(row)\n",
    "end_loop = time.time()"
   ]
  },
  {
   "cell_type": "code",
   "execution_count": 12,
   "id": "5d467d68",
   "metadata": {},
   "outputs": [],
   "source": [
    "start_numpy = time.time()\n",
    "numpy_mat_C = numpy_mat_A + numpy_mat_B\n",
    "end_numpy = time.time()"
   ]
  },
  {
   "cell_type": "code",
   "execution_count": 13,
   "id": "8bf61684",
   "metadata": {},
   "outputs": [
    {
     "name": "stdout",
     "output_type": "stream",
     "text": [
      "Time for loops :  20.560731887817383\n",
      "Time for numpy :  4.3703203201293945\n"
     ]
    }
   ],
   "source": [
    "print('Time for loops : ', end_loop - start_loop)\n",
    "print('Time for numpy : ', end_numpy - start_numpy)"
   ]
  },
  {
   "cell_type": "code",
   "execution_count": 14,
   "id": "6a6fa85e",
   "metadata": {},
   "outputs": [],
   "source": [
    "### Numpy is faster than loops"
   ]
  }
 ],
 "metadata": {
  "kernelspec": {
   "display_name": "Python 3",
   "language": "python",
   "name": "python3"
  },
  "language_info": {
   "codemirror_mode": {
    "name": "ipython",
    "version": 3
   },
   "file_extension": ".py",
   "mimetype": "text/x-python",
   "name": "python",
   "nbconvert_exporter": "python",
   "pygments_lexer": "ipython3",
   "version": "3.8.3"
  }
 },
 "nbformat": 4,
 "nbformat_minor": 5
}
